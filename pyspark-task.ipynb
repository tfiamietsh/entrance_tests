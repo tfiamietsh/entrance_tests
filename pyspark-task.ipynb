{
 "cells": [
  {
   "cell_type": "code",
   "execution_count": 1,
   "metadata": {
    "_cell_guid": "b1076dfc-b9ad-4769-8c92-a6c4dae69d19",
    "_uuid": "8f2839f25d086af736a60e9eeb907d3b93b6e0e5",
    "execution": {
     "iopub.execute_input": "2025-09-08T15:02:01.878302Z",
     "iopub.status.busy": "2025-09-08T15:02:01.877834Z",
     "iopub.status.idle": "2025-09-08T15:02:01.970035Z",
     "shell.execute_reply": "2025-09-08T15:02:01.968678Z",
     "shell.execute_reply.started": "2025-09-08T15:02:01.878268Z"
    }
   },
   "outputs": [],
   "source": [
    "from pyspark.sql import SparkSession, DataFrame"
   ]
  },
  {
   "cell_type": "code",
   "execution_count": 2,
   "metadata": {
    "execution": {
     "iopub.execute_input": "2025-09-08T15:02:01.973707Z",
     "iopub.status.busy": "2025-09-08T15:02:01.972034Z",
     "iopub.status.idle": "2025-09-08T15:02:07.318633Z",
     "shell.execute_reply": "2025-09-08T15:02:07.317320Z",
     "shell.execute_reply.started": "2025-09-08T15:02:01.973662Z"
    }
   },
   "outputs": [
    {
     "name": "stderr",
     "output_type": "stream",
     "text": [
      "Setting default log level to \"WARN\".\n",
      "To adjust logging level use sc.setLogLevel(newLevel). For SparkR, use setLogLevel(newLevel).\n",
      "25/09/08 15:02:05 WARN NativeCodeLoader: Unable to load native-hadoop library for your platform... using builtin-java classes where applicable\n"
     ]
    }
   ],
   "source": [
    "spark = SparkSession.builder.getOrCreate()"
   ]
  },
  {
   "cell_type": "code",
   "execution_count": 3,
   "metadata": {
    "execution": {
     "iopub.execute_input": "2025-09-08T15:02:07.320308Z",
     "iopub.status.busy": "2025-09-08T15:02:07.320022Z",
     "iopub.status.idle": "2025-09-08T15:02:10.991683Z",
     "shell.execute_reply": "2025-09-08T15:02:10.990747Z",
     "shell.execute_reply.started": "2025-09-08T15:02:07.320277Z"
    }
   },
   "outputs": [],
   "source": [
    "products = spark.createDataFrame(enumerate(['Фитнес-браслет', 'Дождевик', 'Ноутбук', 'Комикс', 'Хлеб']), ['product_id', 'product_name'])\n",
    "categories = spark.createDataFrame(enumerate(['Электроника', 'Одежда', 'Спорт', 'Туризм']), ['category_id', 'category_name'])\n",
    "product_category = spark.createDataFrame([(0, 0), (0, 2), (1, 1), (1, 3), (2, 0)], ['product_id', 'category_id'])"
   ]
  },
  {
   "cell_type": "code",
   "execution_count": 4,
   "metadata": {
    "execution": {
     "iopub.execute_input": "2025-09-08T15:02:10.994060Z",
     "iopub.status.busy": "2025-09-08T15:02:10.993529Z",
     "iopub.status.idle": "2025-09-08T15:02:11.004117Z",
     "shell.execute_reply": "2025-09-08T15:02:11.002293Z",
     "shell.execute_reply.started": "2025-09-08T15:02:10.994023Z"
    }
   },
   "outputs": [],
   "source": [
    "def get_product_category_pairs(products: DataFrame, \n",
    "                               categories: DataFrame, \n",
    "                               product_category: DataFrame) -> DataFrame:\n",
    "    \"\"\"\n",
    "    Возвращает DataFrame с колонками product_name и category_name:\n",
    "    - все пары 'продукт -- категория'\n",
    "    - и все продукты без категорий (category_name будет null)\n",
    "    \"\"\"\n",
    "    \n",
    "    return products \\\n",
    "        .join(product_category, 'product_id', 'left') \\\n",
    "        .join(categories, 'category_id', 'left') \\\n",
    "        .select('product_name', 'category_name')"
   ]
  },
  {
   "cell_type": "code",
   "execution_count": 5,
   "metadata": {
    "execution": {
     "iopub.execute_input": "2025-09-08T15:02:11.005726Z",
     "iopub.status.busy": "2025-09-08T15:02:11.005339Z",
     "iopub.status.idle": "2025-09-08T15:02:18.374547Z",
     "shell.execute_reply": "2025-09-08T15:02:18.373683Z",
     "shell.execute_reply.started": "2025-09-08T15:02:11.005695Z"
    }
   },
   "outputs": [
    {
     "name": "stderr",
     "output_type": "stream",
     "text": [
      "                                                                                \r"
     ]
    },
    {
     "name": "stdout",
     "output_type": "stream",
     "text": [
      "+--------------+-------------+\n",
      "|product_name  |category_name|\n",
      "+--------------+-------------+\n",
      "|Фитнес-браслет|Спорт        |\n",
      "|Фитнес-браслет|Электроника  |\n",
      "|Дождевик      |Туризм       |\n",
      "|Дождевик      |Одежда       |\n",
      "|Ноутбук       |Электроника  |\n",
      "|Комикс        |NULL         |\n",
      "|Хлеб          |NULL         |\n",
      "+--------------+-------------+\n",
      "\n"
     ]
    }
   ],
   "source": [
    "df = get_product_category_pairs(products, categories, product_category)\n",
    "\n",
    "df.show(truncate=False)"
   ]
  }
 ],
 "metadata": {
  "kaggle": {
   "accelerator": "none",
   "dataSources": [],
   "dockerImageVersionId": 31089,
   "isGpuEnabled": false,
   "isInternetEnabled": true,
   "language": "python",
   "sourceType": "notebook"
  },
  "kernelspec": {
   "display_name": "Python 3 (ipykernel)",
   "language": "python",
   "name": "python3"
  },
  "language_info": {
   "codemirror_mode": {
    "name": "ipython",
    "version": 3
   },
   "file_extension": ".py",
   "mimetype": "text/x-python",
   "name": "python",
   "nbconvert_exporter": "python",
   "pygments_lexer": "ipython3",
   "version": "3.9.12"
  }
 },
 "nbformat": 4,
 "nbformat_minor": 4
}
